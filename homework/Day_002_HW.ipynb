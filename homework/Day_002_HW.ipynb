{
 "cells": [
  {
   "cell_type": "markdown",
   "metadata": {},
   "source": [
    "## [作業目標]\n",
    "了解機器學習適合應用的領域與範疇。"
   ]
  },
  {
   "cell_type": "markdown",
   "metadata": {},
   "source": [
    "## [作業重點]\n",
    "透過瞭解機器學習的運作方式，找出非常適用機器學習應用的領域及其原因"
   ]
  },
  {
   "cell_type": "markdown",
   "metadata": {},
   "source": [
    "## 作業\n",
    "請找出一個你認為機器學習可以發光發熱的領域並闡述原因? "
   ]
  },
  {
   "cell_type": "markdown",
   "metadata": {},
   "source": [
    "我認為機器學習可以利用於行銷領域，在行銷領域中，能夠適當的辨認及分群潛在顧客非常重要，在這部分我們可以利用非監督是學習的clustering，來達到，並且我們可以透過過往的顧客消費軌跡，來利用監督是學習來預測消費者的未來購物模式，來做出最好的行銷策略。\n"
   ]
  }
 ],
 "metadata": {
  "kernelspec": {
   "display_name": "Python 3",
   "language": "python",
   "name": "python3"
  },
  "language_info": {
   "codemirror_mode": {
    "name": "ipython",
    "version": 3
   },
   "file_extension": ".py",
   "mimetype": "text/x-python",
   "name": "python",
   "nbconvert_exporter": "python",
   "pygments_lexer": "ipython3",
   "version": "3.7.1"
  }
 },
 "nbformat": 4,
 "nbformat_minor": 2
}
